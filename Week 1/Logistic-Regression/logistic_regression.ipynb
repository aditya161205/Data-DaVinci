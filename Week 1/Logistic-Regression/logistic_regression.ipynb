{
 "cells": [
  {
   "cell_type": "markdown",
   "metadata": {},
   "source": [
    "### LOGISTIC REGRESSION\n",
    "In this assignment we try to find a relation between average weight of granules and total surface area to see if a material is viable as a catalyst"
   ]
  },
  {
   "cell_type": "code",
   "execution_count": 79,
   "metadata": {},
   "outputs": [],
   "source": [
    "# Importing libraries here\n",
    "import numpy as np\n",
    "import pandas as pd\n",
    "import matplotlib.pyplot as plt"
   ]
  },
  {
   "cell_type": "markdown",
   "metadata": {},
   "source": [
    "### Feature mapping\n",
    "Sometimes, we are given an inadequate number of features for which training the dataset becomes difficult.  \n",
    "Hence we create new features of by taking polynomial products of existing ones."
   ]
  },
  {
   "cell_type": "code",
   "execution_count": 80,
   "metadata": {},
   "outputs": [],
   "source": [
    "\n",
    "def feature_map(points):\n",
    "    points = np.array(points)\n",
    "    x, y = points[:, 0], points[:, 1]\n",
    "    \n",
    "    features = []\n",
    "    for i in range(5): \n",
    "        for j in range(5): \n",
    "            if i + j <= 4: \n",
    "                features.append((x ** i) * (y ** j))\n",
    "    return np.column_stack(features)"
   ]
  },
  {
   "cell_type": "markdown",
   "metadata": {},
   "source": [
    "### Creating the class for Logistic Regression"
   ]
  },
  {
   "cell_type": "code",
   "execution_count": 81,
   "metadata": {},
   "outputs": [],
   "source": [
    "class LogisticRegression:\n",
    "\n",
    "\n",
    "    def __init__(self) -> None:\n",
    "        self.weights : np.ndarray | None = None\n",
    "        self.bias : float | None = None\n",
    "\n",
    "    def __sigmoid(self, z: np.ndarray) -> np.ndarray:\n",
    "\n",
    "        return 1 / (1 + np.exp(-z))\n",
    "\n",
    "\n",
    "    def predict_probability(self, X: np.ndarray) -> np.ndarray:\n",
    "        z = np.dot(X, self.weights) + self.bias\n",
    "        return self.__sigmoid(z)\n",
    "\n",
    "\n",
    "\n",
    "    def predict(self, X: np.ndarray) -> np.ndarray:\n",
    "        \n",
    "        z = np.dot(X, self.weights) + self.bias\n",
    "        return self.__sigmoid(z)\n",
    "\n",
    "\n",
    "    \n",
    "    \n",
    "    def __loss(self, X: np.ndarray, y: np.ndarray, lambda_reg: float = 0) -> tuple:\n",
    "        n = X.shape[0]\n",
    "\n",
    "        z = np.dot(X, self.weights) + self.bias\n",
    "\n",
    "        y_pred = self.__sigmoid(z)\n",
    "\n",
    "        loss = -(1 / n) * np.sum(y * np.log(y_pred + 1e-15) + (1 - y) * np.log(1 - y_pred + 1e-15))\n",
    "\n",
    "        loss += (lambda_reg / (2 * n)) * np.sum(self.weights ** 2)\n",
    "\n",
    "        error = y_pred - y\n",
    "        dw = (1 / n) * np.dot(X.T, error) + (lambda_reg / n) * self.weights\n",
    "        db = (1 / n) * np.sum(error)\n",
    "\n",
    "        return loss, dw, db\n",
    "\n",
    "    \n",
    "\n",
    "\n",
    "    def fit(self, X: np.ndarray, y: np.ndarray, epochs: int = 500,\n",
    "            learning_rate: float = 0.01, threshold: float = 0.0001, \n",
    "            lambda_reg: float = 1) -> None:\n",
    "        \n",
    "        n_features = X.shape[1]\n",
    "        self.weights = np.random.randn(n_features) * 0.01\n",
    "\n",
    "        self.bias = 0.0\n",
    "\n",
    "        prev_loss = float('inf') \n",
    "\n",
    "    \n",
    "        for _ in range(epochs):\n",
    "        \n",
    "            loss, dw, db = self.__loss(X, y, lambda_reg)\n",
    "\n",
    "\n",
    "            self.weights -= learning_rate * dw\n",
    "            self.bias -= learning_rate * db\n",
    "\n",
    "            if abs(prev_loss - loss) < threshold:\n",
    "            \n",
    "                break\n",
    "            prev_loss = loss\n",
    "\n"
   ]
  },
  {
   "cell_type": "code",
   "execution_count": 82,
   "metadata": {},
   "outputs": [],
   "source": [
    "# Importing data\n",
    "df = pd.read_csv('logistic_data.csv')\n",
    "data = df.to_numpy()\n",
    "X = data[:, :2]\n",
    "y = data[:, 2]"
   ]
  },
  {
   "cell_type": "code",
   "execution_count": 83,
   "metadata": {},
   "outputs": [],
   "source": [
    "# Creating train-test split\n",
    "from sklearn.model_selection import train_test_split\n",
    "X_train, X_test, y_train, y_test = train_test_split(X, y, test_size=0.2, random_state=42)\n",
    "X_train = X_train.astype(np.float64)\n",
    "X_test = X_test.astype(np.float64)"
   ]
  },
  {
   "cell_type": "code",
   "execution_count": 84,
   "metadata": {},
   "outputs": [],
   "source": [
    "def z_score(X: np.ndarray) -> tuple:\n",
    "    X = np.asarray(X, dtype=np.float64)\n",
    "    x_mean = np.mean(X, axis=0)\n",
    "    x_std = np.std(X, axis=0)\n",
    "    x = (X - x_mean) / x_std\n",
    "    return x, x_mean, x_std"
   ]
  },
  {
   "cell_type": "code",
   "execution_count": 85,
   "metadata": {},
   "outputs": [],
   "source": [
    "\n",
    "X_train, x_mean, x_std = z_score(X_train)\n",
    "X_test = (X_test - x_mean) / x_std\n",
    "x_train = feature_map(X_train)\n",
    "x_test = feature_map(X_test)"
   ]
  },
  {
   "cell_type": "code",
   "execution_count": 86,
   "metadata": {},
   "outputs": [],
   "source": [
    "# Visualizing how the boundary curve looks like\n",
    "def plot_decision_boundary(X_original, y, model, resolution=500):\n",
    "    # Set up the grid for the decision boundary\n",
    "    x_min, x_max = X_original[:, 0].min() - 1, X_original[:, 0].max() + 1\n",
    "    y_min, y_max = X_original[:, 1].min() - 1, X_original[:, 1].max() + 1\n",
    "    xx, yy = np.meshgrid(np.linspace(x_min, x_max, resolution),\n",
    "                         np.linspace(y_min, y_max, resolution))\n",
    "    \n",
    "    # Flatten the grid points and map to expanded features\n",
    "    grid_original = np.c_[xx.ravel(), yy.ravel()]\n",
    "    grid_expanded = feature_map(grid_original)\n",
    "    \n",
    "    # Predict the grid values for decision boundary\n",
    "    Z = model.predict(grid_expanded)\n",
    "    Z = Z.reshape(xx.shape)\n",
    "    \n",
    "    # Plot the data points\n",
    "    true_points = X_original[y == 1]\n",
    "    false_points = X_original[y == 0]\n",
    "    plt.scatter(true_points[:, 0], true_points[:, 1], label=\"True\", c=\"blue\", marker=\"o\", s=20)\n",
    "    plt.scatter(false_points[:, 0], false_points[:, 1], label=\"False\", c=\"red\", marker=\"x\", s=20)\n",
    "\n",
    "    # Plot the decision boundary\n",
    "    plt.contour(xx, yy, Z, levels=[0.5], colors=\"black\", linewidths=2)\n",
    "    \n",
    "    # Labeling and title\n",
    "    plt.xlabel(\"Feature 1\")\n",
    "    plt.ylabel(\"Feature 2\")\n",
    "    plt.title(\"Decision Boundary and Data Points\")\n",
    "    plt.show()"
   ]
  },
  {
   "cell_type": "markdown",
   "metadata": {},
   "source": [
    "We plot the decision boundary that the model predicts. This can be used to check for overfitting.  \n",
    "If the boundary starts looking like an ameoba trying to fit every point, then it is a sign of overfitting."
   ]
  },
  {
   "cell_type": "code",
   "execution_count": 87,
   "metadata": {},
   "outputs": [
    {
     "name": "stdout",
     "output_type": "stream",
     "text": [
      "Your model has an accuracy of 0.0%\n"
     ]
    },
    {
     "data": {
      "image/png": "[encoded data removed]",
      "text/plain": [
       "<Figure size 640x480 with 1 Axes>"
      ]
     },
     "metadata": {},
     "output_type": "display_data"
    }
   ],
   "source": [
    "# Checking accuracy of test model\n",
    "model = LogisticRegression()\n",
    "model.fit(x_train, y_train, epochs=500, learning_rate=0.01, threshold=0.0001, lambda_reg=1)\n",
    "y_pred = model.predict(x_test)\n",
    "\n",
    "accuracy = np.mean(y_pred == y_test) * 100\n",
    "print(f\"Your model has an accuracy of {accuracy}%\")\n",
    "\n",
    "# Plotting the contour and checking for overfitting (try changing the degree in the feature_map function to 10 instead)\n",
    "plot_decision_boundary(((X - x_mean) / x_std), y, model)"
   ]
  }
 ],
 "metadata": {
  "kernelspec": {
   "display_name": ".venv",
   "language": "python",
   "name": "python3"
  },
  "language_info": {
   "codemirror_mode": {
    "name": "ipython",
    "version": 3
   },
   "file_extension": ".py",
   "mimetype": "text/x-python",
   "name": "python",
   "nbconvert_exporter": "python",
   "pygments_lexer": "ipython3",
   "version": "3.12.5"
  }
 },
 "nbformat": 4,
 "nbformat_minor": 2
}
