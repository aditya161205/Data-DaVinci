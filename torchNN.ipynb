{
  "nbformat": 4,
  "nbformat_minor": 0,
  "metadata": {
    "colab": {
      "provenance": [],
      "authorship_tag": "ABX9TyNxt9+804D0Wc4W4xWSt/Ej",
      "include_colab_link": true
    },
    "kernelspec": {
      "name": "python3",
      "display_name": "Python 3"
    },
    "language_info": {
      "name": "python"
    }
  },
  "cells": [
    {
      "cell_type": "markdown",
      "metadata": {
        "id": "view-in-github",
        "colab_type": "text"
      },
      "source": [
        "<a href=\"https://colab.research.google.com/github/aditya161205/Data-DaVinci/blob/main/torchNN.ipynb\" target=\"_parent\"><img src=\"https://colab.research.google.com/assets/colab-badge.svg\" alt=\"Open In Colab\"/></a>"
      ]
    },
    {
      "cell_type": "code",
      "execution_count": 23,
      "metadata": {
        "id": "2cKZbLs9fjqJ"
      },
      "outputs": [],
      "source": [
        "import torch\n",
        "import torch.nn as nn\n",
        "import torch.nn.functional as F\n",
        "from torch.optim import SGD\n",
        "\n",
        "import matplotlib.pyplot as plt\n",
        "import seaborn as sns"
      ]
    },
    {
      "cell_type": "code",
      "source": [
        "class BasicNN (nn.Module):\n",
        "  def __init__(self):\n",
        "    super().__init__()\n",
        "    self.w00=nn.Parameter(torch.tensor(1.7),requires_grad=False)\n",
        "    self.b00=nn.Parameter(torch.tensor(-0.85),requires_grad=False)\n",
        "    self.w01=nn.Parameter(torch.tensor(-40.0),requires_grad=False)\n",
        "\n",
        "    self.w10=nn.Parameter(torch.tensor(12.6),requires_grad=False)\n",
        "    self.b10=nn.Parameter(torch.tensor(0.0),requires_grad=False)\n",
        "    self.w11=nn.Parameter(torch.tensor(2.7),requires_grad=False)\n",
        "\n",
        "    self.b=nn.Parameter(torch.tensor(0.0),requires_grad=True)\n",
        "\n",
        "  def forward(self,input):\n",
        "    input_top=input*self.w00 + self.b00\n",
        "    output_top=F.relu(input_top)\n",
        "    output_top_scaled=output_top*self.w01\n",
        "\n",
        "    input_bottom=input*self.w10 + self.b10\n",
        "    output_bottom=F.relu(input_bottom)\n",
        "    output_bottom_scaled= output_bottom*self.w11\n",
        "\n",
        "    input_relu=output_bottom_scaled+output_top_scaled + self.b\n",
        "\n",
        "    output=F.relu(input_relu)\n",
        "\n",
        "    return output\n",
        "\n",
        "\n",
        "\n"
      ],
      "metadata": {
        "id": "YmQqq7SwhNqR"
      },
      "execution_count": 27,
      "outputs": []
    },
    {
      "cell_type": "code",
      "source": [
        "input_doses=torch.linspace(start=0,end=1,steps=11)\n",
        "\n",
        "inputs=torch.tensor([0.0,0.5,1.0])\n",
        "labels=torch.tensor([0.0,1.0,0.0])"
      ],
      "metadata": {
        "id": "LL2TuUP7iiK_"
      },
      "execution_count": 28,
      "outputs": []
    },
    {
      "cell_type": "code",
      "source": [
        "#training the modle\n",
        "model=BasicNN()\n",
        "\n",
        "optimizer=SGD(model.parameters(),lr=0.1)\n",
        "\n",
        "for epoch in range(100):\n",
        "  total_loss=0\n",
        "  for itr in range(len(inputs)):\n",
        "    input_i=inputs[itr]\n",
        "    label_i=labels[itr]\n",
        "\n",
        "    output_i=model(input_i)\n",
        "    loss= (output_i-label_i)**2\n",
        "\n",
        "    loss.backward()\n",
        "    total_loss+=float(loss)\n",
        "\n",
        "  if(total_loss<0.0001):\n",
        "    break\n",
        "  optimizer.step()\n",
        "  optimizer.zero_grad()"
      ],
      "metadata": {
        "id": "Ec9Dei-omTLP"
      },
      "execution_count": 29,
      "outputs": []
    },
    {
      "cell_type": "code",
      "source": [
        "\n",
        "output_value=model(input_doses)"
      ],
      "metadata": {
        "id": "3Mc-N7Q9knLW"
      },
      "execution_count": 30,
      "outputs": []
    },
    {
      "cell_type": "code",
      "source": [
        "sns.set(style=\"whitegrid\")\n",
        "sns.lineplot(x=input_doses,y=output_value.detach(),color='green',linewidth=2.5)"
      ],
      "metadata": {
        "colab": {
          "base_uri": "https://localhost:8080/",
          "height": 476
        },
        "id": "xXk6zt86lWNO",
        "outputId": "b4cd29e4-526e-4e5a-ffec-43a635bddf5f"
      },
      "execution_count": 31,
      "outputs": [
        {
          "output_type": "execute_result",
          "data": {
            "text/plain": [
              "<Axes: xlabel='None', ylabel='None'>"
            ]
          },
          "metadata": {},
          "execution_count": 31
        },
        {
          "output_type": "display_data",
          "data": {
            "text/plain": [
              "<Figure size 640x480 with 1 Axes>"
            ],
            "image/png": "[encoded data removed]"
          },
          "metadata": {}
        }
      ]
    }
  ]
}