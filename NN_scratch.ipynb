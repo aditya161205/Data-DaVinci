{
  "nbformat": 4,
  "nbformat_minor": 0,
  "metadata": {
    "colab": {
      "provenance": [],
      "authorship_tag": "ABX9TyPoeUEtJBIJFDKsKjEdvGSy",
      "include_colab_link": true
    },
    "kernelspec": {
      "name": "python3",
      "display_name": "Python 3"
    },
    "language_info": {
      "name": "python"
    }
  },
  "cells": [
    {
      "cell_type": "markdown",
      "metadata": {
        "id": "view-in-github",
        "colab_type": "text"
      },
      "source": [
        "<a href=\"https://colab.research.google.com/github/aditya161205/Data-DaVinci/blob/main/NN_scratch.ipynb\" target=\"_parent\"><img src=\"https://colab.research.google.com/assets/colab-badge.svg\" alt=\"Open In Colab\"/></a>"
      ]
    },
    {
      "cell_type": "code",
      "execution_count": null,
      "metadata": {
        "id": "yBsgYJKL--2K"
      },
      "outputs": [],
      "source": [
        "import numpy as np\n",
        "import pandas as pd\n",
        "import matplotlib as plt"
      ]
    },
    {
      "cell_type": "markdown",
      "source": [
        "Loading the data and spliting it into test and train data"
      ],
      "metadata": {
        "id": "YHCmkWVfJeJb"
      }
    },
    {
      "cell_type": "code",
      "source": [
        "\n",
        "data = pd.read_csv(\"mnist.csv\")\n",
        "data = np.array(data)\n",
        "\n",
        "np.random.shuffle(data)\n",
        "\n",
        "m, n = data.shape\n",
        "\n",
        "data_test = data[:1000].T\n",
        "Y_test = data_test[0].reshape(1, -1)\n",
        "X_test = data_test[1:n] / 255.0\n",
        "\n",
        "data_train = data[1000:m].T\n",
        "Y_train = data_train[0].reshape(1, -1)\n",
        "X_train = data_train[1:n] / 255.0\n",
        "\n",
        "_, m_train = X_train.shape"
      ],
      "metadata": {
        "id": "lJCvtqSSCjLe"
      },
      "execution_count": null,
      "outputs": []
    },
    {
      "cell_type": "markdown",
      "source": [
        "coding all the functions needed to do gradient descent"
      ],
      "metadata": {
        "id": "0abFUfWJJvpf"
      }
    },
    {
      "cell_type": "markdown",
      "source": [
        "finally here"
      ],
      "metadata": {
        "id": "5DRHSalEQ1qk"
      }
    },
    {
      "cell_type": "code",
      "source": [
        "def init_param():\n",
        "    w1 = np.random.randn(10, 784) * np.sqrt(2 / 784)\n",
        "    b1 = np.zeros((10, 1))\n",
        "    w2 = np.random.randn(10, 10) * np.sqrt(2 / 10)\n",
        "    b2 = np.zeros((10, 1))\n",
        "    return w1, b1, w2, b2\n",
        "\n",
        "def ReLU(z):\n",
        "    return np.maximum(0, z)\n",
        "\n",
        "def softmax(z):\n",
        "    exp_z = np.exp(z - np.max(z, axis=0, keepdims=True))\n",
        "    return exp_z / np.sum(exp_z, axis=0, keepdims=True)\n",
        "\n",
        "def der_relu(z):\n",
        "    return (z > 0).astype(float)\n",
        "\n",
        "def forward(w1, b1, w2, b2, x):\n",
        "    z1 = np.dot(w1, x) + b1\n",
        "    a1 = ReLU(z1)\n",
        "    z2 = np.dot(w2, a1) + b2\n",
        "    a2 = softmax(z2)\n",
        "    return z1, a1, z2, a2\n",
        "\n",
        "def one_hot(y):\n",
        "    return np.eye(y.max() + 1)[y.reshape(-1)].T\n",
        "\n",
        "def backward(z1, a1, z2, a2, w1, w2, x, y):\n",
        "    m = y.size\n",
        "    y = one_hot(y)\n",
        "\n",
        "    dz2 = a2 - y\n",
        "    dw2 = (1 / m) * np.dot(dz2, a1.T)\n",
        "    db2 = (1 / m) * np.sum(dz2, axis=1, keepdims=True)\n",
        "\n",
        "    dz1 = np.dot(w2.T, dz2) * der_relu(z1)\n",
        "    dw1 = (1 / m) * np.dot(dz1, x.T)\n",
        "    db1 = (1 / m) * np.sum(dz1, axis=1, keepdims=True)\n",
        "\n",
        "    return dw1, db1, dw2, db2\n",
        "\n",
        "def update_param(w1, b1, w2, b2, dw1, db1, dw2, db2, alpha):\n",
        "    w1 -= alpha * dw1\n",
        "    b1 -= alpha * db1\n",
        "    w2 -= alpha * dw2\n",
        "    b2 -= alpha * db2\n",
        "    return w1, b1, w2, b2\n",
        "\n",
        "def predict(a2):\n",
        "    return np.argmax(a2, axis=0)\n",
        "\n",
        "def accuracy(predictions, y):\n",
        "    return np.mean(predictions == y)  # `np.mean` instead of `np.sum`\n",
        "\n",
        "def gradient_descent(x, y, epochs, alpha):\n",
        "    w1, b1, w2, b2 = init_param()\n",
        "\n",
        "    for epoch in range(epochs):\n",
        "        z1, a1, z2, a2 = forward(w1, b1, w2, b2, x)\n",
        "        dw1, db1, dw2, db2 = backward(z1, a1, z2, a2, w1, w2, x, y)\n",
        "        w1, b1, w2, b2 = update_param(w1, b1, w2, b2, dw1, db1, dw2, db2, alpha)\n",
        "\n",
        "        if epoch % 100 == 0:\n",
        "            preds = predict(a2)\n",
        "            print(f\"Epoch {epoch}: Accuracy = {accuracy(preds, y):.4f}\")\n",
        "\n",
        "    return w1, b1, w2, b2\n"
      ],
      "metadata": {
        "id": "Wk-pFWnHaOI_"
      },
      "execution_count": null,
      "outputs": []
    },
    {
      "cell_type": "code",
      "source": [
        "def gradient_descent(x, y, epochs, alpha):\n",
        "    w1, b1, w2, b2 = init_param()  # Initialize parameters\n",
        "\n",
        "    for epoch in range(epochs):\n",
        "        # Forward propagation\n",
        "        z1, a1, z2, a2 = forward(w1, b1, w2, b2, x)\n",
        "\n",
        "        # Backpropagation\n",
        "        dw1, db1, dw2, db2 = backward(z1, a1, z2, a2, w1, w2, x, y)\n",
        "\n",
        "        # Update parameters\n",
        "        w1, b1, w2, b2 = update_param(w1, b1, w2, b2, dw1, db1, dw2, db2, alpha)\n",
        "\n",
        "        # Compute accuracy every 50 epochs\n",
        "        if epoch % 50 == 0:\n",
        "            predictions = predict(a2)\n",
        "            y_labels = np.argmax(y, axis=0)  # Convert one-hot y to labels\n",
        "            acc = accuracy(predictions, y_labels)\n",
        "            print(f\"Epoch {epoch}: Accuracy = {acc:.4f}\")\n",
        "\n",
        "    return w1, b1, w2, b2\n"
      ],
      "metadata": {
        "id": "Fi1w8iYYJdT2"
      },
      "execution_count": null,
      "outputs": []
    },
    {
      "cell_type": "code",
      "source": [
        " w1,b1,w2,b2=gradient_descent(X_train,Y_train,1000,0.01)"
      ],
      "metadata": {
        "colab": {
          "base_uri": "https://localhost:8080/",
          "height": 311
        },
        "id": "fo0P8ZWzTIv_",
        "outputId": "9a9298a3-8d91-49af-eedd-899c6ec03859"
      },
      "execution_count": null,
      "outputs": [
        {
          "output_type": "stream",
          "name": "stdout",
          "text": [
            "Epoch 0: Accuracy = 0.1036\n"
          ]
        },
        {
          "output_type": "error",
          "ename": "KeyboardInterrupt",
          "evalue": "",
          "traceback": [
            "\u001b[0;31m---------------------------------------------------------------------------\u001b[0m",
            "\u001b[0;31mKeyboardInterrupt\u001b[0m                         Traceback (most recent call last)",
            "\u001b[0;32m<ipython-input-109-db0eda66cbf5>\u001b[0m in \u001b[0;36m<cell line: 0>\u001b[0;34m()\u001b[0m\n\u001b[0;32m----> 1\u001b[0;31m \u001b[0mw1\u001b[0m\u001b[0;34m,\u001b[0m\u001b[0mb1\u001b[0m\u001b[0;34m,\u001b[0m\u001b[0mw2\u001b[0m\u001b[0;34m,\u001b[0m\u001b[0mb2\u001b[0m\u001b[0;34m=\u001b[0m\u001b[0mgradient_descent\u001b[0m\u001b[0;34m(\u001b[0m\u001b[0mX_train\u001b[0m\u001b[0;34m,\u001b[0m\u001b[0mY_train\u001b[0m\u001b[0;34m,\u001b[0m\u001b[0;36m1000\u001b[0m\u001b[0;34m,\u001b[0m\u001b[0;36m0.01\u001b[0m\u001b[0;34m)\u001b[0m\u001b[0;34m\u001b[0m\u001b[0;34m\u001b[0m\u001b[0m\n\u001b[0m",
            "\u001b[0;32m<ipython-input-106-d4b15d636983>\u001b[0m in \u001b[0;36mgradient_descent\u001b[0;34m(x, y, epochs, alpha)\u001b[0m\n\u001b[1;32m      7\u001b[0m \u001b[0;34m\u001b[0m\u001b[0m\n\u001b[1;32m      8\u001b[0m         \u001b[0;31m# Backpropagation\u001b[0m\u001b[0;34m\u001b[0m\u001b[0;34m\u001b[0m\u001b[0m\n\u001b[0;32m----> 9\u001b[0;31m         \u001b[0mdw1\u001b[0m\u001b[0;34m,\u001b[0m \u001b[0mdb1\u001b[0m\u001b[0;34m,\u001b[0m \u001b[0mdw2\u001b[0m\u001b[0;34m,\u001b[0m \u001b[0mdb2\u001b[0m \u001b[0;34m=\u001b[0m \u001b[0mbackward\u001b[0m\u001b[0;34m(\u001b[0m\u001b[0mz1\u001b[0m\u001b[0;34m,\u001b[0m \u001b[0ma1\u001b[0m\u001b[0;34m,\u001b[0m \u001b[0mz2\u001b[0m\u001b[0;34m,\u001b[0m \u001b[0ma2\u001b[0m\u001b[0;34m,\u001b[0m \u001b[0mw1\u001b[0m\u001b[0;34m,\u001b[0m \u001b[0mw2\u001b[0m\u001b[0;34m,\u001b[0m \u001b[0mx\u001b[0m\u001b[0;34m,\u001b[0m \u001b[0my\u001b[0m\u001b[0;34m)\u001b[0m\u001b[0;34m\u001b[0m\u001b[0;34m\u001b[0m\u001b[0m\n\u001b[0m\u001b[1;32m     10\u001b[0m \u001b[0;34m\u001b[0m\u001b[0m\n\u001b[1;32m     11\u001b[0m         \u001b[0;31m# Update parameters\u001b[0m\u001b[0;34m\u001b[0m\u001b[0;34m\u001b[0m\u001b[0m\n",
            "\u001b[0;32m<ipython-input-99-08950b12c418>\u001b[0m in \u001b[0;36mbackward\u001b[0;34m(z1, a1, z2, a2, w1, w2, x, y)\u001b[0m\n\u001b[1;32m     35\u001b[0m \u001b[0;34m\u001b[0m\u001b[0m\n\u001b[1;32m     36\u001b[0m     \u001b[0mdz1\u001b[0m \u001b[0;34m=\u001b[0m \u001b[0mnp\u001b[0m\u001b[0;34m.\u001b[0m\u001b[0mdot\u001b[0m\u001b[0;34m(\u001b[0m\u001b[0mw2\u001b[0m\u001b[0;34m.\u001b[0m\u001b[0mT\u001b[0m\u001b[0;34m,\u001b[0m \u001b[0mdz2\u001b[0m\u001b[0;34m)\u001b[0m \u001b[0;34m*\u001b[0m \u001b[0mder_relu\u001b[0m\u001b[0;34m(\u001b[0m\u001b[0mz1\u001b[0m\u001b[0;34m)\u001b[0m\u001b[0;34m\u001b[0m\u001b[0;34m\u001b[0m\u001b[0m\n\u001b[0;32m---> 37\u001b[0;31m     \u001b[0mdw1\u001b[0m \u001b[0;34m=\u001b[0m \u001b[0;34m(\u001b[0m\u001b[0;36m1\u001b[0m \u001b[0;34m/\u001b[0m \u001b[0mm\u001b[0m\u001b[0;34m)\u001b[0m \u001b[0;34m*\u001b[0m \u001b[0mnp\u001b[0m\u001b[0;34m.\u001b[0m\u001b[0mdot\u001b[0m\u001b[0;34m(\u001b[0m\u001b[0mdz1\u001b[0m\u001b[0;34m,\u001b[0m \u001b[0mx\u001b[0m\u001b[0;34m.\u001b[0m\u001b[0mT\u001b[0m\u001b[0;34m)\u001b[0m\u001b[0;34m\u001b[0m\u001b[0;34m\u001b[0m\u001b[0m\n\u001b[0m\u001b[1;32m     38\u001b[0m     \u001b[0mdb1\u001b[0m \u001b[0;34m=\u001b[0m \u001b[0;34m(\u001b[0m\u001b[0;36m1\u001b[0m \u001b[0;34m/\u001b[0m \u001b[0mm\u001b[0m\u001b[0;34m)\u001b[0m \u001b[0;34m*\u001b[0m \u001b[0mnp\u001b[0m\u001b[0;34m.\u001b[0m\u001b[0msum\u001b[0m\u001b[0;34m(\u001b[0m\u001b[0mdz1\u001b[0m\u001b[0;34m,\u001b[0m \u001b[0maxis\u001b[0m\u001b[0;34m=\u001b[0m\u001b[0;36m1\u001b[0m\u001b[0;34m,\u001b[0m \u001b[0mkeepdims\u001b[0m\u001b[0;34m=\u001b[0m\u001b[0;32mTrue\u001b[0m\u001b[0;34m)\u001b[0m\u001b[0;34m\u001b[0m\u001b[0;34m\u001b[0m\u001b[0m\n\u001b[1;32m     39\u001b[0m \u001b[0;34m\u001b[0m\u001b[0m\n",
            "\u001b[0;31mKeyboardInterrupt\u001b[0m: "
          ]
        }
      ]
    }
  ]
}